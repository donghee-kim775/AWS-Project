{
 "cells": [
  {
   "cell_type": "markdown",
   "id": "a9fdb8d6-b896-40fa-9a6b-2fc7bbb4be62",
   "metadata": {},
   "source": [
    "# API 모듈화"
   ]
  },
  {
   "cell_type": "code",
   "execution_count": 114,
   "id": "7c819a6c-ae5d-4016-b234-9d4189d81144",
   "metadata": {
    "scrolled": true
   },
   "outputs": [],
   "source": [
    "import requests\n",
    "import pandas as pd\n",
    "\n",
    "# 옥외 대피소 API 호출\n",
    "def API_EarthQuake_json(Decoding_key, pagenum, numofrows):\n",
    "    # API 호출\n",
    "    url = 'http://apis.data.go.kr/1741000/EmergencyAssemblyArea_Earthquake2/getArea1List'\n",
    "    params ={'serviceKey' : Decoding_key, 'pageNo' : pagenum, 'numOfRows' : numofrows, 'type' : 'json' }\n",
    "    response = requests.get(url, params=params)\n",
    "    jsondata = response.json()\n",
    "    # 호출 output 형태\n",
    "    # 'EarthquakeOutdoorsShelter' : 결과 형태\n",
    "    # 'row'\n",
    "    \n",
    "    # json \n",
    "    rows = jsondata['EarthquakeOutdoorsShelter'][1]['row']\n",
    "    df = pd.DataFrame(rows)\n",
    "\n",
    "    # Data_PreProcessing\n",
    "    data = df[['ctprvn_nm', 'sgg_nm', 'vt_acmdfclty_nm','dtl_adres','fclty_ar','xcord','ycord']]\n",
    "    data = data.rename(columns = {'ctprvn_nm' : '시도', 'sgg_nm' : '시군구명', 'vt_acmdfclty_nm' : '시설명', 'dtl_adres' : '상세주소', 'fclty_ar' : '시설면적', 'xcord' : '경도', 'ycord' : '위도'})\n",
    "    # data groupby 코드 구상 중 -> 시도 -> 시군구 순위\n",
    "    \n",
    "    # 개선사항 1: 시도 시군구명 drop -> 상세 주소로 split해서 더 자세히 나타내기\n",
    "    # -> 상세 주소 별로 컬럼 할당\n",
    "    # -> 시 군 구 동 단위로 group by 하기\n",
    "    return data\n",
    "\n",
    "# 전국 인원 API 호출\n",
    "#def API_personnel(Decoding_key):"
   ]
  },
  {
   "cell_type": "markdown",
   "id": "21723400-1ad4-4fe1-bb8a-e4c43f567fdd",
   "metadata": {},
   "source": [
    "# 파라미터 변경사항"
   ]
  },
  {
   "cell_type": "code",
   "execution_count": 115,
   "id": "7d142dac-82f1-4799-a293-3c95b3d59e66",
   "metadata": {},
   "outputs": [
    {
     "data": {
      "text/html": [
       "<div>\n",
       "<style scoped>\n",
       "    .dataframe tbody tr th:only-of-type {\n",
       "        vertical-align: middle;\n",
       "    }\n",
       "\n",
       "    .dataframe tbody tr th {\n",
       "        vertical-align: top;\n",
       "    }\n",
       "\n",
       "    .dataframe thead th {\n",
       "        text-align: right;\n",
       "    }\n",
       "</style>\n",
       "<table border=\"1\" class=\"dataframe\">\n",
       "  <thead>\n",
       "    <tr style=\"text-align: right;\">\n",
       "      <th></th>\n",
       "      <th>시도</th>\n",
       "      <th>시군구명</th>\n",
       "      <th>시설명</th>\n",
       "      <th>상세주소</th>\n",
       "      <th>시설면적</th>\n",
       "      <th>경도</th>\n",
       "      <th>위도</th>\n",
       "    </tr>\n",
       "  </thead>\n",
       "  <tbody>\n",
       "    <tr>\n",
       "      <th>0</th>\n",
       "      <td>전라북도</td>\n",
       "      <td>익산시</td>\n",
       "      <td>전북맹아학교 운동장</td>\n",
       "      <td>전라북도 익산시 석암동   358-8</td>\n",
       "      <td>1215</td>\n",
       "      <td>127.00581870538714</td>\n",
       "      <td>35.94204903741861</td>\n",
       "    </tr>\n",
       "    <tr>\n",
       "      <th>1</th>\n",
       "      <td>전라북도</td>\n",
       "      <td>익산시</td>\n",
       "      <td>익산부천중학교 운동장</td>\n",
       "      <td>전라북도 익산시 어양동   7-1</td>\n",
       "      <td>1746</td>\n",
       "      <td>126.99038469617159</td>\n",
       "      <td>35.95295809936892</td>\n",
       "    </tr>\n",
       "    <tr>\n",
       "      <th>2</th>\n",
       "      <td>전라북도</td>\n",
       "      <td>익산시</td>\n",
       "      <td>이리영등중학교 운동장</td>\n",
       "      <td>전라북도 익산시 어양동   622-1</td>\n",
       "      <td>2901</td>\n",
       "      <td>126.98151394519785</td>\n",
       "      <td>35.96415233699638</td>\n",
       "    </tr>\n",
       "    <tr>\n",
       "      <th>3</th>\n",
       "      <td>전라북도</td>\n",
       "      <td>익산시</td>\n",
       "      <td>어양중학교 운동장</td>\n",
       "      <td>전라북도 익산시 어양동   191-0</td>\n",
       "      <td>4025</td>\n",
       "      <td>126.98458313941765</td>\n",
       "      <td>35.964786377539404</td>\n",
       "    </tr>\n",
       "    <tr>\n",
       "      <th>4</th>\n",
       "      <td>전라북도</td>\n",
       "      <td>익산시</td>\n",
       "      <td>중앙체육공원 공터</td>\n",
       "      <td>전라북도 익산시 어양동   52-0</td>\n",
       "      <td>8722</td>\n",
       "      <td>126.98690080489374</td>\n",
       "      <td>35.94925572259241</td>\n",
       "    </tr>\n",
       "    <tr>\n",
       "      <th>...</th>\n",
       "      <td>...</td>\n",
       "      <td>...</td>\n",
       "      <td>...</td>\n",
       "      <td>...</td>\n",
       "      <td>...</td>\n",
       "      <td>...</td>\n",
       "      <td>...</td>\n",
       "    </tr>\n",
       "    <tr>\n",
       "      <th>995</th>\n",
       "      <td>서울특별시</td>\n",
       "      <td>성동구</td>\n",
       "      <td>용답근린공원(용답휴식공원)</td>\n",
       "      <td>서울특별시 성동구 용답동   128-3</td>\n",
       "      <td>6046</td>\n",
       "      <td>127.04757464641742</td>\n",
       "      <td>37.56993476012347</td>\n",
       "    </tr>\n",
       "    <tr>\n",
       "      <th>996</th>\n",
       "      <td>서울특별시</td>\n",
       "      <td>성동구</td>\n",
       "      <td>용답토속공원</td>\n",
       "      <td>서울특별시 성동구 용답동   223-0</td>\n",
       "      <td>4832</td>\n",
       "      <td>127.05689251572342</td>\n",
       "      <td>37.56321453917104</td>\n",
       "    </tr>\n",
       "    <tr>\n",
       "      <th>997</th>\n",
       "      <td>서울특별시</td>\n",
       "      <td>성동구</td>\n",
       "      <td>중랑물재생센터</td>\n",
       "      <td>서울특별시 성동구 용답동   247-6</td>\n",
       "      <td>4500</td>\n",
       "      <td>127.06417836168399</td>\n",
       "      <td>37.560068983777384</td>\n",
       "    </tr>\n",
       "    <tr>\n",
       "      <th>998</th>\n",
       "      <td>서울특별시</td>\n",
       "      <td>광진구</td>\n",
       "      <td>중마초등학교 운동장</td>\n",
       "      <td>서울특별시 광진구 중곡동   191-69</td>\n",
       "      <td>2088</td>\n",
       "      <td>127.07983591321523</td>\n",
       "      <td>37.56579138983057</td>\n",
       "    </tr>\n",
       "    <tr>\n",
       "      <th>999</th>\n",
       "      <td>서울특별시</td>\n",
       "      <td>광진구</td>\n",
       "      <td>용곡초등학교 운동장</td>\n",
       "      <td>서울특별시 광진구 중곡동   176-1</td>\n",
       "      <td>4432</td>\n",
       "      <td>127.08857622776443</td>\n",
       "      <td>37.56672716355081</td>\n",
       "    </tr>\n",
       "  </tbody>\n",
       "</table>\n",
       "<p>1000 rows × 7 columns</p>\n",
       "</div>"
      ],
      "text/plain": [
       "        시도 시군구명             시설명                    상세주소  시설면적  \\\n",
       "0     전라북도  익산시      전북맹아학교 운동장    전라북도 익산시 석암동   358-8  1215   \n",
       "1     전라북도  익산시     익산부천중학교 운동장      전라북도 익산시 어양동   7-1  1746   \n",
       "2     전라북도  익산시     이리영등중학교 운동장    전라북도 익산시 어양동   622-1  2901   \n",
       "3     전라북도  익산시       어양중학교 운동장    전라북도 익산시 어양동   191-0  4025   \n",
       "4     전라북도  익산시       중앙체육공원 공터     전라북도 익산시 어양동   52-0  8722   \n",
       "..     ...  ...             ...                     ...   ...   \n",
       "995  서울특별시  성동구  용답근린공원(용답휴식공원)   서울특별시 성동구 용답동   128-3  6046   \n",
       "996  서울특별시  성동구          용답토속공원   서울특별시 성동구 용답동   223-0  4832   \n",
       "997  서울특별시  성동구         중랑물재생센터   서울특별시 성동구 용답동   247-6  4500   \n",
       "998  서울특별시  광진구      중마초등학교 운동장  서울특별시 광진구 중곡동   191-69  2088   \n",
       "999  서울특별시  광진구     용곡초등학교 운동장    서울특별시 광진구 중곡동   176-1  4432   \n",
       "\n",
       "                     경도                  위도  \n",
       "0    127.00581870538714   35.94204903741861  \n",
       "1    126.99038469617159   35.95295809936892  \n",
       "2    126.98151394519785   35.96415233699638  \n",
       "3    126.98458313941765  35.964786377539404  \n",
       "4    126.98690080489374   35.94925572259241  \n",
       "..                  ...                 ...  \n",
       "995  127.04757464641742   37.56993476012347  \n",
       "996  127.05689251572342   37.56321453917104  \n",
       "997  127.06417836168399  37.560068983777384  \n",
       "998  127.07983591321523   37.56579138983057  \n",
       "999  127.08857622776443   37.56672716355081  \n",
       "\n",
       "[1000 rows x 7 columns]"
      ]
     },
     "execution_count": 115,
     "metadata": {},
     "output_type": "execute_result"
    }
   ],
   "source": [
    "# API 서비스 키\n",
    "decoding = 'tFlRbdLrGdbT07si0ZGVgNB2t7e1lRlQPzeq5uCeXyfkCZJ+8+CRvlRy1JLFEZXUdVqNxgmO1OaOcSDStjOhKQ=='\n",
    "# pagenum\n",
    "pagenum = 3\n",
    "# 불러올 개수 (최대 1001개)\n",
    "numofrows = 1000\n",
    "\n",
    "# test\n",
    "test_data = API_EarthQuake_json(decoding, pagenum, numofrows)\n",
    "test_data"
   ]
  },
  {
   "cell_type": "code",
   "execution_count": 116,
   "id": "75b8e096-268d-419b-ba0f-259f9bc7881c",
   "metadata": {},
   "outputs": [],
   "source": [
    "# data frame 생성 후 계속 append -> duplicated로 중복 제거 하는 코드\n",
    "# 작성해야함"
   ]
  },
  {
   "cell_type": "code",
   "execution_count": 117,
   "id": "c4b26633-b548-4007-965d-9eb99fe55ebb",
   "metadata": {
    "scrolled": true
   },
   "outputs": [],
   "source": [
    "test_data.to_csv('test_data.csv')"
   ]
  },
  {
   "cell_type": "markdown",
   "id": "b21ee40b-dd51-4132-8e77-a8b44264485e",
   "metadata": {},
   "source": [
    "# SQL 연결"
   ]
  },
  {
   "cell_type": "markdown",
   "id": "a0f07ad3-4ce6-42c9-85e0-ed93516684f5",
   "metadata": {},
   "source": [
    "# API 호출 형태 확인"
   ]
  },
  {
   "cell_type": "code",
   "execution_count": 118,
   "id": "82907ec9-5632-4a17-b4fd-9c41c892b494",
   "metadata": {
    "scrolled": true
   },
   "outputs": [],
   "source": [
    "url = 'http://apis.data.go.kr/1741000/EmergencyAssemblyArea_Earthquake2/getArea1List'\n",
    "params ={'serviceKey' : decoding, 'pageNo' : pagenum, 'numOfRows' : numofrows, 'type' : 'json' }\n",
    "response = requests.get(url, params=params)\n",
    "jsondata = response.json()"
   ]
  },
  {
   "cell_type": "code",
   "execution_count": 119,
   "id": "85674109-5769-452d-b742-1af983022e4a",
   "metadata": {},
   "outputs": [
    {
     "data": {
      "text/plain": [
       "{'head': [{'totalCount': 11262},\n",
       "  {'numOfRows': '1000', 'pageNo': '3', 'type': 'JSON'},\n",
       "  {'RESULT': {'resultCode': 'INFO-0', 'resultMsg': 'NOMAL SERVICE'}}]}"
      ]
     },
     "execution_count": 119,
     "metadata": {},
     "output_type": "execute_result"
    }
   ],
   "source": [
    "jsondata['EarthquakeOutdoorsShelter'][0]"
   ]
  },
  {
   "cell_type": "code",
   "execution_count": 121,
   "id": "8646c638-02fb-49f2-89cc-8d69b4a5d662",
   "metadata": {},
   "outputs": [],
   "source": [
    "# jsondata['EarthquakeOutdoorsShelter'][1]\n",
    "# output : {'row : [{옥외대피소 1 정보}, {옥외 대피소 2 정보}, ....]'}"
   ]
  },
  {
   "cell_type": "code",
   "execution_count": 122,
   "id": "e2342ceb-210a-4b0f-b050-ceb210fcef69",
   "metadata": {},
   "outputs": [],
   "source": [
    "# jsondata['EarthquakeOutdoorsShelter'][1]['row']\n",
    "# ouput : [{옥외대피소 1 정보}, {옥외 대피소 2 정보}, ....]"
   ]
  }
 ],
 "metadata": {
  "kernelspec": {
   "display_name": "Python 3 (ipykernel)",
   "language": "python",
   "name": "python3"
  },
  "language_info": {
   "codemirror_mode": {
    "name": "ipython",
    "version": 3
   },
   "file_extension": ".py",
   "mimetype": "text/x-python",
   "name": "python",
   "nbconvert_exporter": "python",
   "pygments_lexer": "ipython3",
   "version": "3.8.18"
  }
 },
 "nbformat": 4,
 "nbformat_minor": 5
}
